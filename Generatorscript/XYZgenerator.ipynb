{
 "metadata": {
  "language_info": {
   "codemirror_mode": {
    "name": "ipython",
    "version": 3
   },
   "file_extension": ".py",
   "mimetype": "text/x-python",
   "name": "python",
   "nbconvert_exporter": "python",
   "pygments_lexer": "ipython3",
   "version": "3.9.1"
  },
  "orig_nbformat": 2,
  "kernelspec": {
   "name": "python3",
   "display_name": "Python 3.9.1 64-bit ('base': conda)"
  },
  "interpreter": {
   "hash": "03827847a37f57eb561cf098197381d01e89eaeca0028b36e60a3f15df347f59"
  }
 },
 "nbformat": 4,
 "nbformat_minor": 2,
 "cells": [
  {
   "cell_type": "code",
   "execution_count": 1,
   "source": [
    "import numpy as np \r\n",
    "import math\r\n",
    "import random\r\n",
    "np.set_printoptions(suppress=True, \r\n",
    "  precision=10,\r\n",
    "  threshold=2000,\r\n",
    "  linewidth=150)  \r\n",
    "def generator(x,y,z,r,height,numOfPoints): # 圆柱模型\r\n",
    "    container = np.zeros((numOfPoints,6), dtype = float, order = 'C')\r\n",
    "    for i in range(numOfPoints):\r\n",
    "        randX = x + (random.random()-0.5)*r\r\n",
    "        randY = y + (random.random()-0.5)*math.sqrt(r**-pow((randX-x),2))\r\n",
    "        randZ = z + random.random()*height\r\n",
    "        container[i] = [randX,randY,randZ,0,0,0]\r\n",
    "    return container"
   ],
   "outputs": [],
   "metadata": {}
  },
  {
   "cell_type": "code",
   "execution_count": 2,
   "source": [
    "a = generator(0,0,10,2,1,10000)\r\n",
    "np.savetxt('output.xyz',a,fmt='%.08f') "
   ],
   "outputs": [],
   "metadata": {}
  },
  {
   "cell_type": "code",
   "execution_count": null,
   "source": [],
   "outputs": [],
   "metadata": {}
  }
 ]
}